{
  "metadata": {
    "kernelspec": {
      "name": "python",
      "display_name": "Python (Pyodide)",
      "language": "python"
    },
    "language_info": {
      "codemirror_mode": {
        "name": "python",
        "version": 3
      },
      "file_extension": ".py",
      "mimetype": "text/x-python",
      "name": "python",
      "nbconvert_exporter": "python",
      "pygments_lexer": "ipython3",
      "version": "3.8"
    }
  },
  "nbformat_minor": 5,
  "nbformat": 4,
  "cells": [
    {
      "id": "c736fa6f-57fe-408d-8b41-fd9103ca642e",
      "cell_type": "code",
      "source": "# install ipywidgets into Pyodide\nimport micropip\nawait micropip.install('ipywidgets')",
      "metadata": {
        "trusted": true
      },
      "outputs": [],
      "execution_count": null
    },
    {
      "id": "a11c8384-4431-46aa-bf0b-4394b2dcf4c1",
      "cell_type": "code",
      "source": "import glob\nimport matplotlib.pyplot as plt\nimport numpy as np\nimport pyproj\nfrom ipywidgets import interact",
      "metadata": {
        "trusted": true
      },
      "outputs": [],
      "execution_count": null
    },
    {
      "id": "5b59de60-4f7d-4371-ab45-af2ec9ef28e2",
      "cell_type": "code",
      "source": "# get the list of trajectories from the SIO pier\nsio_files = glob.glob('data/USSIO/*')",
      "metadata": {
        "trusted": true
      },
      "outputs": [],
      "execution_count": null
    },
    {
      "id": "490b2a71-db9a-4e18-8088-dbd5371c7a22",
      "cell_type": "code",
      "source": "# build a project to map lat long to meters\nP = pyproj.Proj(proj='utm', zone=31, ellps='WGS84', preserve_units=False)",
      "metadata": {
        "trusted": true
      },
      "outputs": [],
      "execution_count": null
    },
    {
      "id": "98cf0d16-3f64-46fa-9025-e3a6121cbdda",
      "cell_type": "code",
      "source": "def plot_trajectory(csv_filename):\n    # read the data\n    balloon_data = np.loadtxt(csv_filename)\n    # grab the columns we want\n    h = balloon_data[:,-3]/1000 # convert to km\n    lat = balloon_data[:,-2] # latitude\n    lon = balloon_data[:,-1] # longitude\n    t = balloon_data[:,-7] # temperature\n    \n    # convert to distance traveled in km\n    dy, dx = P(lon, lat)\n    dx = dx[0] - dx\n    dy = dy[0] - dy\n    dx = dx/1000\n    dy = dy/1000\n\n    ax = plt.figure(figsize=(8, 8)).add_subplot(projection='3d')\n    ax.scatter(dx, dy, h, label='Temperature', c=t)\n    ax.legend()\n    ax.set_xlabel('East (km)')\n    ax.set_ylabel('North (km)')\n    ax.set_zlabel('Height (km)')\n    ax.set_box_aspect(None, zoom=0.85)\n    plt.show()",
      "metadata": {
        "trusted": true
      },
      "outputs": [],
      "execution_count": null
    },
    {
      "id": "e3823372-bc91-47e4-ac56-3e95bd5906f2",
      "cell_type": "code",
      "source": "# use interact to build a simple UI\nd = interact(plot_trajectory, csv_filename=sio_files)",
      "metadata": {
        "trusted": true
      },
      "outputs": [],
      "execution_count": null
    }
  ]
}