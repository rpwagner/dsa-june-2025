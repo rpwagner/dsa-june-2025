{
 "cells": [
  {
   "cell_type": "markdown",
   "id": "9c6b50e5-f38c-4452-a57e-5807c5e8e0da",
   "metadata": {},
   "source": [
    "# CW3E Radiosonde Data\n",
    "\n",
    "[Center For Western Weather and Water Extremes (CW3E)](https://cw3e.ucsd.edu/) regularly launches [radiosondes](https://cw3e.ucsd.edu/cw3e_radiosondes/) (weather balloons) from stations as the Scripps Institute of Oceanography, Bodega Bay, Seven Oaks Dam, and other locations. The data is publicly available over HTTPS in CSV files with records of each balloon's position and measurements including temperature, pressure, etc.\n",
    "\n",
    "![SIO balloon launch](CW3E_Radiosondes.jpg)\n",
    "\n",
    "This notebook is a proof-of-concept to build instructional data portals to introduce the the radiosonde data to new users. "
   ]
  },
  {
   "cell_type": "code",
   "execution_count": null,
   "id": "c736fa6f-57fe-408d-8b41-fd9103ca642e",
   "metadata": {},
   "outputs": [],
   "source": [
    "# install ipywidgets into Pyodide\n",
    "import micropip\n",
    "await micropip.install('ipywidgets')"
   ]
  },
  {
   "cell_type": "code",
   "execution_count": null,
   "id": "a11c8384-4431-46aa-bf0b-4394b2dcf4c1",
   "metadata": {},
   "outputs": [],
   "source": [
    "import glob\n",
    "import matplotlib.pyplot as plt\n",
    "import numpy as np\n",
    "import pyproj\n",
    "from ipywidgets import interact"
   ]
  },
  {
   "cell_type": "code",
   "execution_count": null,
   "id": "5b59de60-4f7d-4371-ab45-af2ec9ef28e2",
   "metadata": {},
   "outputs": [],
   "source": [
    "# get the list of trajectories from the SIO pier\n",
    "sio_files = glob.glob('data/USSIO/*')"
   ]
  },
  {
   "cell_type": "code",
   "execution_count": null,
   "id": "490b2a71-db9a-4e18-8088-dbd5371c7a22",
   "metadata": {},
   "outputs": [],
   "source": [
    "# build a project to map lat long to meters\n",
    "P = pyproj.Proj(proj='utm', zone=31, ellps='WGS84', preserve_units=False)"
   ]
  },
  {
   "cell_type": "code",
   "execution_count": null,
   "id": "98cf0d16-3f64-46fa-9025-e3a6121cbdda",
   "metadata": {},
   "outputs": [],
   "source": [
    "def plot_trajectory(csv_filename):\n",
    "    # read the data\n",
    "    balloon_data = np.loadtxt(csv_filename)\n",
    "    # grab the columns we want\n",
    "    h = balloon_data[:,-3]/1000 # convert to km\n",
    "    lat = balloon_data[:,-2] # latitude\n",
    "    lon = balloon_data[:,-1] # longitude\n",
    "    t = balloon_data[:,-7] # temperature\n",
    "    \n",
    "    # convert to distance traveled in km\n",
    "    dy, dx = P(lon, lat)\n",
    "    dx = dx[0] - dx\n",
    "    dy = dy[0] - dy\n",
    "    dx = dx/1000\n",
    "    dy = dy/1000\n",
    "\n",
    "    ax = plt.figure(figsize=(8, 8)).add_subplot(projection='3d')\n",
    "    ax.scatter(dx, dy, h, label='Temperature', c=t)\n",
    "    ax.legend()\n",
    "    ax.set_xlabel('East (km)')\n",
    "    ax.set_ylabel('North (km)')\n",
    "    ax.set_zlabel('Height (km)')\n",
    "    ax.set_box_aspect(None, zoom=0.85)\n",
    "    plt.show()"
   ]
  },
  {
   "cell_type": "code",
   "execution_count": null,
   "id": "e3823372-bc91-47e4-ac56-3e95bd5906f2",
   "metadata": {},
   "outputs": [],
   "source": [
    "# use interact to build a simple UI\n",
    "d = interact(plot_trajectory, csv_filename=sio_files)"
   ]
  }
 ],
 "metadata": {
  "kernelspec": {
   "display_name": "Python 3 (ipykernel)",
   "language": "python",
   "name": "python3"
  },
  "language_info": {
   "codemirror_mode": {
    "name": "ipython",
    "version": 3
   },
   "file_extension": ".py",
   "mimetype": "text/x-python",
   "name": "python",
   "nbconvert_exporter": "python",
   "pygments_lexer": "ipython3",
   "version": "3.11.5"
  }
 },
 "nbformat": 4,
 "nbformat_minor": 5
}
