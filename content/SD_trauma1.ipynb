{
 "cells": [
  {
   "cell_type": "code",
   "execution_count": null,
   "id": "494556e8",
   "metadata": {},
   "outputs": [],
   "source": [
    "import geopandas as gpd\n",
    "import folium\n",
    "import matplotlib.pyplot as plt\n"
   ]
  },
  {
   "cell_type": "code",
   "execution_count": null,
   "id": "66bcbf54",
   "metadata": {},
   "outputs": [],
   "source": [
    "gdf = gpd.read_file(\"pd_neighborhoods_datasd.geojson\")\n",
    "gdf "
   ]
  },
  {
   "cell_type": "code",
   "execution_count": null,
   "id": "48b06f97",
   "metadata": {},
   "outputs": [],
   "source": [
    "gdf[\"name\"].unique() "
   ]
  },
  {
   "cell_type": "code",
   "execution_count": null,
   "id": "653ed4e5",
   "metadata": {},
   "outputs": [],
   "source": [
    "print(gdf[\"name\"].value_counts().to_string())"
   ]
  },
  {
   "cell_type": "code",
   "execution_count": null,
   "id": "bed687d3",
   "metadata": {},
   "outputs": [],
   "source": [
    "gdf.plot(figsize=(30, 30), edgecolor='black', column='name', legend=True)\n",
    "plt.title(\"San Diego Police Neighborhoods\")\n",
    "plt.show()"
   ]
  },
  {
   "cell_type": "code",
   "execution_count": null,
   "id": "5be1d9e7",
   "metadata": {},
   "outputs": [],
   "source": [
    "# Get center of map\n",
    "center = [gdf.geometry.centroid.y.mean(), gdf.geometry.centroid.x.mean()]\n",
    "\n",
    "# Create folium map\n",
    "m = folium.Map(location=center, zoom_start=11)\n",
    "\n",
    "# Add polygons\n",
    "#folium.GeoJson(gdf).add_to(m)\n",
    "folium.GeoJson(\n",
    "    gdf,\n",
    "    name=\"Neighborhoods\",\n",
    "    tooltip=folium.GeoJsonTooltip(fields=[\"name\"], aliases=[\"Neighborhood:\"])\n",
    ").add_to(m)\n",
    "\n",
    "# Display\n",
    "m"
   ]
  },
  {
   "cell_type": "code",
   "execution_count": null,
   "id": "b09fcb4d",
   "metadata": {},
   "outputs": [],
   "source": []
  },
  {
   "cell_type": "code",
   "execution_count": null,
   "id": "3e8b981b",
   "metadata": {},
   "outputs": [],
   "source": []
  },
  {
   "cell_type": "code",
   "execution_count": null,
   "id": "30cacd09",
   "metadata": {},
   "outputs": [],
   "source": []
  }
 ],
 "metadata": {
  "kernelspec": {
   "display_name": "basic",
   "language": "python",
   "name": "python3"
  },
  "language_info": {
   "codemirror_mode": {
    "name": "ipython",
    "version": 3
   },
   "file_extension": ".py",
   "mimetype": "text/x-python",
   "name": "python",
   "nbconvert_exporter": "python",
   "pygments_lexer": "ipython3",
   "version": "3.11.11"
  }
 },
 "nbformat": 4,
 "nbformat_minor": 5
}
