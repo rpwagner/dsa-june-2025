{
  "metadata": {
    "kernelspec": {
      "name": "python",
      "display_name": "Python (Pyodide)",
      "language": "python"
    },
    "language_info": {
      "codemirror_mode": {
        "name": "python",
        "version": 3
      },
      "file_extension": ".py",
      "mimetype": "text/x-python",
      "name": "python",
      "nbconvert_exporter": "python",
      "pygments_lexer": "ipython3",
      "version": "3.8"
    }
  },
  "nbformat_minor": 5,
  "nbformat": 4,
  "cells": [
    {
      "id": "eb78ae94-2fb9-4b7f-9d33-ae6040b374a2",
      "cell_type": "code",
      "source": "import micropip\nawait micropip.install('folium')",
      "metadata": {
        "trusted": true
      },
      "outputs": [],
      "execution_count": null
    },
    {
      "id": "494556e8",
      "cell_type": "code",
      "source": "import geopandas as gpd\nimport folium\nimport matplotlib.pyplot as plt",
      "metadata": {
        "trusted": true
      },
      "outputs": [],
      "execution_count": null
    },
    {
      "id": "66bcbf54",
      "cell_type": "code",
      "source": "gdf = gpd.read_file(\"data/pd_neighborhoods_datasd.geojson\")\ngdf ",
      "metadata": {
        "trusted": true
      },
      "outputs": [],
      "execution_count": null
    },
    {
      "id": "48b06f97",
      "cell_type": "code",
      "source": "gdf[\"name\"].unique() ",
      "metadata": {
        "trusted": true
      },
      "outputs": [],
      "execution_count": null
    },
    {
      "id": "653ed4e5",
      "cell_type": "code",
      "source": "print(gdf[\"name\"].value_counts().to_string())",
      "metadata": {
        "trusted": true
      },
      "outputs": [],
      "execution_count": null
    },
    {
      "id": "bed687d3",
      "cell_type": "code",
      "source": "gdf.plot(figsize=(30, 30), edgecolor='black', column='name', legend=True)\nplt.title(\"San Diego Police Neighborhoods\")\nplt.show()",
      "metadata": {
        "trusted": true
      },
      "outputs": [],
      "execution_count": null
    },
    {
      "id": "5be1d9e7",
      "cell_type": "code",
      "source": "# Get center of map\ncenter = [gdf.geometry.centroid.y.mean(), gdf.geometry.centroid.x.mean()]\n\n# Create folium map\nm = folium.Map(location=center, zoom_start=11)\n\n# Add polygons\n#folium.GeoJson(gdf).add_to(m)\nfolium.GeoJson(\n    gdf,\n    name=\"Neighborhoods\",\n    tooltip=folium.GeoJsonTooltip(fields=[\"name\"], aliases=[\"Neighborhood:\"])\n).add_to(m)\n\n# Display\nm",
      "metadata": {
        "trusted": true
      },
      "outputs": [],
      "execution_count": null
    }
  ]
}