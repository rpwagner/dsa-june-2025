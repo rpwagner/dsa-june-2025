{
  "metadata": {
    "kernelspec": {
      "name": "python",
      "display_name": "Python (Pyodide)",
      "language": "python"
    },
    "language_info": {
      "codemirror_mode": {
        "name": "python",
        "version": 3
      },
      "file_extension": ".py",
      "mimetype": "text/x-python",
      "name": "python",
      "nbconvert_exporter": "python",
      "pygments_lexer": "ipython3",
      "version": "3.8"
    }
  },
  "nbformat_minor": 5,
  "nbformat": 4,
  "cells": [
    {
      "id": "00623441-8a4a-40b2-922c-5a621be96bc3",
      "cell_type": "code",
      "source": "import micropip\nawait micropip.install('folium')",
      "metadata": {
        "trusted": true
      },
      "outputs": [],
      "execution_count": null
    },
    {
      "id": "494556e8",
      "cell_type": "code",
      "source": "import geopandas as gpd\nimport folium\nimport matplotlib.pyplot as plt\nimport numpy as np\nimport pandas as pd",
      "metadata": {},
      "outputs": [],
      "execution_count": null
    },
    {
      "id": "2b68ec18",
      "cell_type": "code",
      "source": "# Filepaths\nfp_sdBeats = \"data/pd_neighborhoods_datasd.geojson\"\nfp_force = \"data/ripa_force_actions_datasd.csv\"\nfp_sdStops = \"data/ripa_stops_datasd_2004_2005.csv\"\nfp_sdbeatsNames = \"data/Preview_Beat_Matching_Table__Final_Corrections_Applied_numbers.csv\"",
      "metadata": {},
      "outputs": [],
      "execution_count": null
    },
    {
      "id": "1925c725",
      "cell_type": "markdown",
      "source": "# Map of San Diego",
      "metadata": {}
    },
    {
      "id": "66bcbf54",
      "cell_type": "code",
      "source": "gdf_sdBeats = gpd.read_file(fp_sdBeats)\ngdf_sdBeats ",
      "metadata": {},
      "outputs": [],
      "execution_count": null
    },
    {
      "id": "aa598bf5",
      "cell_type": "code",
      "source": "gdf_sdBeats.columns",
      "metadata": {},
      "outputs": [],
      "execution_count": null
    },
    {
      "id": "1d270fcc",
      "cell_type": "code",
      "source": "# Get center of map\ncenter = [gdf_sdBeats .geometry.centroid.y.mean(), gdf_sdBeats .geometry.centroid.x.mean()]\n\n# Create folium map\nmapSD = folium.Map(location=center, zoom_start=11)\n\n# Add polygons\n#folium.GeoJson(gdf).add_to(m)\nfolium.GeoJson(\n                gdf_sdBeats ,\n                name=\"Neighborhoods\",\n                tooltip=folium.GeoJsonTooltip(fields=[\"name\"], \n                aliases=[\"Neighborhood:\"])\n).add_to(mapSD)\nmapSD",
      "metadata": {},
      "outputs": [],
      "execution_count": null
    },
    {
      "id": "b80eac51",
      "cell_type": "code",
      "source": "df_beatFix = pd.read_csv(fp_sdbeatsNames)\n# Drop Unnamed: 0.1\tUnnamed: 0\n#df_beatFix = df_beatFix.drop(columns=[\"Unnamed: 0.1\", \"Unnamed: 0\"])\ndf_beatFix",
      "metadata": {},
      "outputs": [],
      "execution_count": null
    },
    {
      "id": "339b5a3b",
      "cell_type": "code",
      "source": "# View entire dataframe columns and rows\n# merge beat fix and gdf_sdBeats\ngdf_sdBeats = gdf_sdBeats.merge(df_beatFix, left_on=\"name\", right_on=\"beatNameFromGeo\", how=\"left\")\ngdf_sdBeats",
      "metadata": {},
      "outputs": [],
      "execution_count": null
    },
    {
      "id": "48b06f97",
      "cell_type": "code",
      "source": "# undo set_option to default\nprint(gdf_sdBeats[\"name\"].unique().tolist())",
      "metadata": {},
      "outputs": [],
      "execution_count": null
    },
    {
      "id": "315b1ee0",
      "cell_type": "markdown",
      "source": "# Use of Force Data",
      "metadata": {}
    },
    {
      "id": "3e7f06c4",
      "cell_type": "code",
      "source": "# Read and preprocess the force actions data\ndf_force = pd.read_csv(fp_force)\n# excract the year from the 'date' column\ndf_force[\"year\"] = pd.to_datetime(df_force[\"insertDatetime\"]).dt.year \ndf_force",
      "metadata": {},
      "outputs": [],
      "execution_count": null
    },
    {
      "id": "7b616da6",
      "cell_type": "code",
      "source": "df_force[\"forceactiontaken\"].value_counts()",
      "metadata": {},
      "outputs": [],
      "execution_count": null
    },
    {
      "id": "d7fd3136",
      "cell_type": "code",
      "source": "# Bar chart excluding forceactiontaken\ndf_force[\"forceactiontaken\"].value_counts().plot(kind=\"bar\", figsize=(10, 6), title=\"Force Actions Taken\")\nplt.xlabel(\"Force Action Taken\")\nplt.ylabel(\"Count\")\nplt.xticks(rotation=90)\nplt.grid(True)\nplt.tight_layout()\nplt.show()",
      "metadata": {},
      "outputs": [],
      "execution_count": null
    },
    {
      "id": "5a90b27a",
      "cell_type": "markdown",
      "source": "# Intermediate Data: Police Stops",
      "metadata": {}
    },
    {
      "id": "19ae5dbd",
      "cell_type": "code",
      "source": "df_stops = pd.read_csv(fp_sdStops)\ndf_stops ",
      "metadata": {},
      "outputs": [],
      "execution_count": null
    },
    {
      "id": "e17fa418",
      "cell_type": "code",
      "source": "df_stops.columns",
      "metadata": {},
      "outputs": [],
      "execution_count": null
    },
    {
      "id": "85c96c45",
      "cell_type": "code",
      "source": "df_stops[\"beat\"].unique()",
      "metadata": {},
      "outputs": [],
      "execution_count": null
    },
    {
      "id": "fb2b3a12",
      "cell_type": "code",
      "source": "df_stops[\"beatName\"].unique()",
      "metadata": {},
      "outputs": [],
      "execution_count": null
    },
    {
      "id": "6d6f9cd6",
      "cell_type": "code",
      "source": "# Strip number off beat names and create a new column\ndf_stops[\"beatName\"] = df_stops[\"beatName\"].fillna(\"Unknown\")\ndf_stops[\"beatNumber\"] = df_stops[\"beatName\"].str.extract(r'^(\\d+)').astype(\"Int64\")\ndf_stops",
      "metadata": {},
      "outputs": [],
      "execution_count": null
    },
    {
      "id": "19597628",
      "cell_type": "markdown",
      "source": "# Merging Data to Tie it Altogether",
      "metadata": {}
    },
    {
      "id": "f8d26c1b",
      "cell_type": "code",
      "source": "# Merge stops with beat names on beatNumber\ndf_stops = df_stops.merge(df_beatFix, left_on=\"beatNumber\", right_on=\"beatNumber\", how=\"left\")\ndf_stops",
      "metadata": {},
      "outputs": [],
      "execution_count": null
    },
    {
      "id": "5b2589cf",
      "cell_type": "code",
      "source": "# Merge df_force and df_stops oon id\ndf_mergedStopsForce = pd.merge(df_force, df_stops, on=\"id\", how=\"inner\")\ndf_mergedStopsForce",
      "metadata": {},
      "outputs": [],
      "execution_count": null
    },
    {
      "id": "ae5dd95a",
      "cell_type": "code",
      "source": "df_mergedStopsForce.columns",
      "metadata": {},
      "outputs": [],
      "execution_count": null
    },
    {
      "id": "3e4be264",
      "cell_type": "markdown",
      "source": "# Analysis",
      "metadata": {}
    },
    {
      "id": "b2db6623",
      "cell_type": "code",
      "source": "# Group on beatNameFromGeo and forceactiontaken summing them\ndf_grouped = df_mergedStopsForce.groupby([\"beatNameFromGeo\", \"forceactiontaken\"]).size().reset_index(name=\"count\")\ndf_grouped",
      "metadata": {},
      "outputs": [],
      "execution_count": null
    },
    {
      "id": "844e20f4",
      "cell_type": "code",
      "source": "# create a pivot table\ndf_pivot = df_grouped.pivot(index=\"beatNameFromGeo\", columns=\"forceactiontaken\", values=\"count\").fillna(0)\n# Reset index to make beatNameFromGeo a column\ndf_pivot\n",
      "metadata": {},
      "outputs": [],
      "execution_count": null
    },
    {
      "id": "28ee2c41",
      "cell_type": "code",
      "source": "with pd.option_context('display.max_rows', None, 'display.max_colwidth', None):\n    display(df_pivot)",
      "metadata": {},
      "outputs": [],
      "execution_count": null
    },
    {
      "id": "ca7315a6",
      "cell_type": "code",
      "source": "# merge the gdf_sdBeats with df_mergedStopsForce on beat number\ngdf_mergedStopsForce = gdf_sdBeats.merge(df_grouped, left_on=\"name\", right_on=\"beatNameFromGeo\", how=\"left\")\ngdf_mergedStopsForce",
      "metadata": {},
      "outputs": [],
      "execution_count": null
    },
    {
      "id": "97c8015a",
      "cell_type": "markdown",
      "source": "# Map it",
      "metadata": {}
    },
    {
      "id": "3e8b981b",
      "cell_type": "code",
      "source": "# Fill missing values\ngdf_mergedStopsForce[\"forceactiontaken\"] = gdf_mergedStopsForce[\"forceactiontaken\"].fillna(\"Unknown\")\ngdf_mergedStopsForce[\"count\"] = gdf_mergedStopsForce[\"count\"].fillna(0)\n\n# Aggregate force actions and counts per beat with line breaks\ntooltip_df = (\n    gdf_mergedStopsForce\n    .groupby(['beatNumber', 'beatNameFromGeo_x'])\n    .apply(lambda x: '<br>'.join(f\"{a}: {int(c)}\" for a, c in zip(x['forceactiontaken'], x['count'])))\n    .reset_index(name='force_summary')\n)\n\n# Merge tooltip data into one row per beat polygon\ngdf_tooltip = (\n    gdf_mergedStopsForce\n    .drop_duplicates(subset='beatNumber')\n    .merge(tooltip_df, on=['beatNumber', 'beatNameFromGeo_x'], how='left')\n)\n\n# Create folium map\nmapForce = folium.Map(location=center, zoom_start=11)\n\n# Add GeoJson layer with tooltip\nfolium.GeoJson(\n    gdf_tooltip,\n    name=\"Force Actions\",\n    tooltip=folium.GeoJsonTooltip(\n        fields=[\"beatNameFromGeo_x\", \"force_summary\"],\n        aliases=[\"Beat Name:\", \"Force Actions:\"],\n        sticky=True,\n        labels=True\n    )\n).add_to(mapForce)\n\nmapForce\n",
      "metadata": {},
      "outputs": [],
      "execution_count": null
    }
  ]
}