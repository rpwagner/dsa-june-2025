{
 "cells": [
  {
   "cell_type": "code",
   "execution_count": null,
   "id": "494556e8",
   "metadata": {},
   "outputs": [],
   "source": [
    "import geopandas as gpd\n",
    "import folium\n",
    "import matplotlib.pyplot as plt\n",
    "import numpy as np\n",
    "import pandas as pd"
   ]
  },
  {
   "cell_type": "code",
   "execution_count": null,
   "id": "2b68ec18",
   "metadata": {},
   "outputs": [],
   "source": [
    "# Filepaths\n",
    "fp_sdBeats = \"data/pd_neighborhoods_datasd.geojson\"\n",
    "fp_force = \"data/ripa_force_actions_datasd.csv\"\n",
    "fp_sdStops = \"data/ripa_stops_datasd_2004_2005.csv\"\n",
    "fp_sdbeatsNames = \"data/Preview_Beat_Matching_Table__Final_Corrections_Applied_numbers.csv\""
   ]
  },
  {
   "cell_type": "markdown",
   "id": "1925c725",
   "metadata": {},
   "source": [
    "# Map of San Diego"
   ]
  },
  {
   "cell_type": "code",
   "execution_count": null,
   "id": "66bcbf54",
   "metadata": {},
   "outputs": [],
   "source": [
    "gdf_sdBeats = gpd.read_file(fp_sdBeats)\n",
    "gdf_sdBeats "
   ]
  },
  {
   "cell_type": "code",
   "execution_count": null,
   "id": "aa598bf5",
   "metadata": {},
   "outputs": [],
   "source": [
    "gdf_sdBeats.columns"
   ]
  },
  {
   "cell_type": "code",
   "execution_count": null,
   "id": "1d270fcc",
   "metadata": {},
   "outputs": [],
   "source": [
    "# Get center of map\n",
    "center = [gdf_sdBeats .geometry.centroid.y.mean(), gdf_sdBeats .geometry.centroid.x.mean()]\n",
    "\n",
    "# Create folium map\n",
    "mapSD = folium.Map(location=center, zoom_start=11)\n",
    "\n",
    "# Add polygons\n",
    "#folium.GeoJson(gdf).add_to(m)\n",
    "folium.GeoJson(\n",
    "                gdf_sdBeats ,\n",
    "                name=\"Neighborhoods\",\n",
    "                tooltip=folium.GeoJsonTooltip(fields=[\"name\"], \n",
    "                aliases=[\"Neighborhood:\"])\n",
    ").add_to(mapSD)\n",
    "mapSD"
   ]
  },
  {
   "cell_type": "code",
   "execution_count": null,
   "id": "b80eac51",
   "metadata": {},
   "outputs": [],
   "source": [
    "df_beatFix = pd.read_csv(fp_sdbeatsNames)\n",
    "# Drop Unnamed: 0.1\tUnnamed: 0\n",
    "#df_beatFix = df_beatFix.drop(columns=[\"Unnamed: 0.1\", \"Unnamed: 0\"])\n",
    "df_beatFix"
   ]
  },
  {
   "cell_type": "code",
   "execution_count": null,
   "id": "339b5a3b",
   "metadata": {},
   "outputs": [],
   "source": [
    "# View entire dataframe columns and rows\n",
    "# merge beat fix and gdf_sdBeats\n",
    "gdf_sdBeats = gdf_sdBeats.merge(df_beatFix, left_on=\"name\", right_on=\"beatNameFromGeo\", how=\"left\")\n",
    "gdf_sdBeats"
   ]
  },
  {
   "cell_type": "code",
   "execution_count": null,
   "id": "48b06f97",
   "metadata": {},
   "outputs": [],
   "source": [
    "# undo set_option to default\n",
    "print(gdf_sdBeats[\"name\"].unique().tolist())"
   ]
  },
  {
   "cell_type": "markdown",
   "id": "315b1ee0",
   "metadata": {},
   "source": [
    "# Use of Force Data"
   ]
  },
  {
   "cell_type": "code",
   "execution_count": null,
   "id": "3e7f06c4",
   "metadata": {},
   "outputs": [],
   "source": [
    "# Read and preprocess the force actions data\n",
    "df_force = pd.read_csv(fp_force)\n",
    "# excract the year from the 'date' column\n",
    "df_force[\"year\"] = pd.to_datetime(df_force[\"insertDatetime\"]).dt.year \n",
    "df_force"
   ]
  },
  {
   "cell_type": "code",
   "execution_count": null,
   "id": "7b616da6",
   "metadata": {},
   "outputs": [],
   "source": [
    "df_force[\"forceactiontaken\"].value_counts()"
   ]
  },
  {
   "cell_type": "code",
   "execution_count": null,
   "id": "d7fd3136",
   "metadata": {},
   "outputs": [],
   "source": [
    "# Bar chart excluding forceactiontaken\n",
    "df_force[\"forceactiontaken\"].value_counts().plot(kind=\"bar\", figsize=(10, 6), title=\"Force Actions Taken\")\n",
    "plt.xlabel(\"Force Action Taken\")\n",
    "plt.ylabel(\"Count\")\n",
    "plt.xticks(rotation=90)\n",
    "plt.grid(True)\n",
    "plt.tight_layout()\n",
    "plt.show()"
   ]
  },
  {
   "cell_type": "markdown",
   "id": "5a90b27a",
   "metadata": {},
   "source": [
    "# Intermediate Data: Police Stops"
   ]
  },
  {
   "cell_type": "code",
   "execution_count": null,
   "id": "19ae5dbd",
   "metadata": {},
   "outputs": [],
   "source": [
    "df_stops = pd.read_csv(fp_sdStops)\n",
    "df_stops "
   ]
  },
  {
   "cell_type": "code",
   "execution_count": null,
   "id": "e17fa418",
   "metadata": {},
   "outputs": [],
   "source": [
    "df_stops.columns"
   ]
  },
  {
   "cell_type": "code",
   "execution_count": null,
   "id": "85c96c45",
   "metadata": {},
   "outputs": [],
   "source": [
    "df_stops[\"beat\"].unique()"
   ]
  },
  {
   "cell_type": "code",
   "execution_count": null,
   "id": "fb2b3a12",
   "metadata": {},
   "outputs": [],
   "source": [
    "df_stops[\"beatName\"].unique()"
   ]
  },
  {
   "cell_type": "code",
   "execution_count": null,
   "id": "6d6f9cd6",
   "metadata": {},
   "outputs": [],
   "source": [
    "# Strip number off beat names and create a new column\n",
    "df_stops[\"beatName\"] = df_stops[\"beatName\"].fillna(\"Unknown\")\n",
    "df_stops[\"beatNumber\"] = df_stops[\"beatName\"].str.extract(r'^(\\d+)').astype(\"Int64\")\n",
    "df_stops"
   ]
  },
  {
   "cell_type": "markdown",
   "id": "19597628",
   "metadata": {},
   "source": [
    "# Merging Data to Tie it Altogether"
   ]
  },
  {
   "cell_type": "code",
   "execution_count": null,
   "id": "f8d26c1b",
   "metadata": {},
   "outputs": [],
   "source": [
    "# Merge stops with beat names on beatNumber\n",
    "df_stops = df_stops.merge(df_beatFix, left_on=\"beatNumber\", right_on=\"beatNumber\", how=\"left\")\n",
    "df_stops"
   ]
  },
  {
   "cell_type": "code",
   "execution_count": null,
   "id": "5b2589cf",
   "metadata": {},
   "outputs": [],
   "source": [
    "# Merge df_force and df_stops oon id\n",
    "df_mergedStopsForce = pd.merge(df_force, df_stops, on=\"id\", how=\"inner\")\n",
    "df_mergedStopsForce"
   ]
  },
  {
   "cell_type": "code",
   "execution_count": null,
   "id": "ae5dd95a",
   "metadata": {},
   "outputs": [],
   "source": [
    "df_mergedStopsForce.columns"
   ]
  },
  {
   "cell_type": "markdown",
   "id": "3e4be264",
   "metadata": {},
   "source": [
    "# Analysis"
   ]
  },
  {
   "cell_type": "code",
   "execution_count": null,
   "id": "b2db6623",
   "metadata": {},
   "outputs": [],
   "source": [
    "# Group on beatNameFromGeo and forceactiontaken summing them\n",
    "df_grouped = df_mergedStopsForce.groupby([\"beatNameFromGeo\", \"forceactiontaken\"]).size().reset_index(name=\"count\")\n",
    "df_grouped"
   ]
  },
  {
   "cell_type": "code",
   "execution_count": null,
   "id": "844e20f4",
   "metadata": {},
   "outputs": [],
   "source": [
    "# create a pivot table\n",
    "df_pivot = df_grouped.pivot(index=\"beatNameFromGeo\", columns=\"forceactiontaken\", values=\"count\").fillna(0)\n",
    "# Reset index to make beatNameFromGeo a column\n",
    "df_pivot\n"
   ]
  },
  {
   "cell_type": "code",
   "execution_count": null,
   "id": "28ee2c41",
   "metadata": {},
   "outputs": [],
   "source": [
    "with pd.option_context('display.max_rows', None, 'display.max_colwidth', None):\n",
    "    display(df_pivot)"
   ]
  },
  {
   "cell_type": "code",
   "execution_count": null,
   "id": "ca7315a6",
   "metadata": {},
   "outputs": [],
   "source": [
    "# merge the gdf_sdBeats with df_mergedStopsForce on beat number\n",
    "gdf_mergedStopsForce = gdf_sdBeats.merge(df_grouped, left_on=\"name\", right_on=\"beatNameFromGeo\", how=\"left\")\n",
    "gdf_mergedStopsForce"
   ]
  },
  {
   "cell_type": "markdown",
   "id": "97c8015a",
   "metadata": {},
   "source": [
    "# Map it"
   ]
  },
  {
   "cell_type": "code",
   "execution_count": null,
   "id": "3e8b981b",
   "metadata": {},
   "outputs": [],
   "source": [
    "# Fill missing values\n",
    "gdf_mergedStopsForce[\"forceactiontaken\"] = gdf_mergedStopsForce[\"forceactiontaken\"].fillna(\"Unknown\")\n",
    "gdf_mergedStopsForce[\"count\"] = gdf_mergedStopsForce[\"count\"].fillna(0)\n",
    "\n",
    "# Aggregate force actions and counts per beat with line breaks\n",
    "tooltip_df = (\n",
    "    gdf_mergedStopsForce\n",
    "    .groupby(['beatNumber', 'beatNameFromGeo_x'])\n",
    "    .apply(lambda x: '<br>'.join(f\"{a}: {int(c)}\" for a, c in zip(x['forceactiontaken'], x['count'])))\n",
    "    .reset_index(name='force_summary')\n",
    ")\n",
    "\n",
    "# Merge tooltip data into one row per beat polygon\n",
    "gdf_tooltip = (\n",
    "    gdf_mergedStopsForce\n",
    "    .drop_duplicates(subset='beatNumber')\n",
    "    .merge(tooltip_df, on=['beatNumber', 'beatNameFromGeo_x'], how='left')\n",
    ")\n",
    "\n",
    "# Create folium map\n",
    "mapForce = folium.Map(location=center, zoom_start=11)\n",
    "\n",
    "# Add GeoJson layer with tooltip\n",
    "folium.GeoJson(\n",
    "    gdf_tooltip,\n",
    "    name=\"Force Actions\",\n",
    "    tooltip=folium.GeoJsonTooltip(\n",
    "        fields=[\"beatNameFromGeo_x\", \"force_summary\"],\n",
    "        aliases=[\"Beat Name:\", \"Force Actions:\"],\n",
    "        sticky=True,\n",
    "        labels=True\n",
    "    )\n",
    ").add_to(mapForce)\n",
    "\n",
    "mapForce\n"
   ]
  }
 ],
 "metadata": {
  "kernelspec": {
   "display_name": "basic",
   "language": "python",
   "name": "python3"
  },
  "language_info": {
   "codemirror_mode": {
    "name": "ipython",
    "version": 3
   },
   "file_extension": ".py",
   "mimetype": "text/x-python",
   "name": "python",
   "nbconvert_exporter": "python",
   "pygments_lexer": "ipython3",
   "version": "3.11.11"
  }
 },
 "nbformat": 4,
 "nbformat_minor": 5
}
