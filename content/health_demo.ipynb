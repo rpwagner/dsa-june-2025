{
 "cells": [
  {
   "cell_type": "markdown",
   "id": "900c6eb8",
   "metadata": {},
   "source": [
    "# Health data analysis\n",
    "\n",
    "Oura ring data for last 3 years\n",
    "captures HRV, Sleep, Exercise etc..."
   ]
  },
  {
   "cell_type": "code",
   "execution_count": null,
   "id": "16115277",
   "metadata": {},
   "outputs": [],
   "source": [
    "import numpy as np \n",
    "import pandas as pd \n",
    "import matplotlib.pyplot as plt\n",
    "import matplotlib.dates as mdates\n",
    "from scipy.stats import ttest_ind\n",
    "from sklearn.preprocessing import StandardScaler\n",
    "from sklearn.metrics import r2_score, mean_absolute_error\n",
    "from sklearn.linear_model import LinearRegression\n",
    "from sklearn.model_selection import train_test_split\n",
    "from sklearn.ensemble import RandomForestRegressor"
   ]
  },
  {
   "cell_type": "markdown",
   "id": "e35a541d",
   "metadata": {},
   "source": [
    "## Load Data"
   ]
  },
  {
   "cell_type": "code",
   "execution_count": null,
   "id": "ee9cbf83",
   "metadata": {},
   "outputs": [],
   "source": [
    "df = pd.read_csv('data/data.csv')\n",
    "\n",
    "# backup (just in case)\n",
    "# df = pd.read_csv('backup_data/data.csv')"
   ]
  },
  {
   "cell_type": "markdown",
   "id": "10b07a6d",
   "metadata": {},
   "source": [
    "## EDA"
   ]
  },
  {
   "cell_type": "code",
   "execution_count": null,
   "id": "24e7e5bc",
   "metadata": {},
   "outputs": [],
   "source": [
    "# look at data\n",
    "df.head()"
   ]
  },
  {
   "cell_type": "code",
   "execution_count": null,
   "id": "06304777",
   "metadata": {},
   "outputs": [],
   "source": [
    "df.isna().sum()/len(df)"
   ]
  },
  {
   "cell_type": "code",
   "execution_count": null,
   "id": "5e5815f5",
   "metadata": {},
   "outputs": [],
   "source": [
    "# remove NAs\n",
    "df = df.dropna()"
   ]
  },
  {
   "cell_type": "code",
   "execution_count": null,
   "id": "4cd31003",
   "metadata": {},
   "outputs": [],
   "source": [
    "# # check type of data\n",
    "# df.dtypes"
   ]
  },
  {
   "cell_type": "code",
   "execution_count": null,
   "id": "db11caa4",
   "metadata": {},
   "outputs": [],
   "source": [
    "df['date'] = pd.to_datetime(df['date'], utc=True)\n",
    "df = df.set_index('date')"
   ]
  },
  {
   "cell_type": "markdown",
   "id": "16f5232d",
   "metadata": {},
   "source": [
    "## Can we identify when I fell sick just by looking at the data?"
   ]
  },
  {
   "cell_type": "code",
   "execution_count": null,
   "id": "9f0b7dae",
   "metadata": {},
   "outputs": [],
   "source": [
    "# remove columns with 'score' in the name\n",
    "\n",
    "df_copy = df.copy()\n",
    "df_copy = df_copy.loc[:, ~df_copy.columns.str.contains('score', case=False)]\n",
    "print(\"Current Columns: \",df_copy.columns)\n",
    "print(\"removed columns: \",df.columns[df.columns.str.contains('score', case=False)])"
   ]
  },
  {
   "cell_type": "code",
   "execution_count": null,
   "id": "2d661234",
   "metadata": {},
   "outputs": [],
   "source": [
    "numeric_cols = df_copy.select_dtypes(include=[np.number]).columns.tolist()\n",
    "# Standardize numeric columns | note that we don't have to import any packages for this.\n",
    "scaler = StandardScaler() \n",
    "df_copy[numeric_cols] = scaler.fit_transform(df_copy[numeric_cols])"
   ]
  },
  {
   "cell_type": "code",
   "execution_count": null,
   "id": "550a5e0c",
   "metadata": {},
   "outputs": [],
   "source": [
    "df_copy = df_copy.reset_index()"
   ]
  },
  {
   "cell_type": "code",
   "execution_count": null,
   "id": "ab9db006",
   "metadata": {},
   "outputs": [],
   "source": [
    "# plot some physiological metrics\n",
    "plt.figure(figsize=(12, 6))\n",
    "# plt.plot(df_copy['date'], df_copy['Average HRV'], label='Average HRV', color='blue')\n",
    "plt.plot(df_copy['date'], df_copy['Lowest Resting Heart Rate'], label='Resting Heart Rate', color='blue')\n",
    "plt.plot(df_copy['date'], df_copy['Temperature Trend Deviation'], label='Temperature Trend Deviation', color='red')\n",
    "\n",
    "plt.xlabel('Date')\n",
    "plt.ylabel('Values')\n",
    "plt.title('Temperature Trend Deviation and Resting Heart Rate Over Time')\n",
    "plt.legend()\n",
    "plt.xticks(rotation=45)\n",
    "plt.tight_layout()\n",
    "plt.gca().xaxis.set_major_locator(mdates.AutoDateLocator())"
   ]
  },
  {
   "cell_type": "markdown",
   "id": "cbd57b44",
   "metadata": {},
   "source": [
    "# But can we predict the likelihood of falling sick?"
   ]
  },
  {
   "cell_type": "markdown",
   "id": "0011ca6c",
   "metadata": {},
   "source": [
    "### Or Can we find another excuse to not go to the gym today?"
   ]
  },
  {
   "cell_type": "code",
   "execution_count": null,
   "id": "42ca48b9",
   "metadata": {},
   "outputs": [],
   "source": [
    "# known sick dates \n",
    "sick_dates = ['2021-01-10', '2021-01-11','2021-01-12', '2021-01-13', '2021-01-15', '2021-01-16', '2021-01-17',  \n",
    "    '2021-04-03', '2021-04-10', '2022-07-10',  '2022-07-16', '2022-07-17', '2022-07-18', '2022-07-19', \n",
    "    '2022-11-02', '2022-11-05', '2024-01-12']\n",
    "sick_dates = pd.to_datetime(sick_dates)\n",
    "# create sick flag\n",
    "df_copy['sick'] = df_copy['date'].isin(sick_dates).astype(int)\n",
    "df_copy['date'] = pd.to_datetime(df_copy['date']).dt.tz_localize(None)\n"
   ]
  },
  {
   "cell_type": "code",
   "execution_count": null,
   "id": "e4abf246",
   "metadata": {},
   "outputs": [],
   "source": [
   "# load weather dataset\n",
   "df_weather = pd.read_csv('data/us_weather_data.csv')  # from the NOAA website\n",
   "df_weather['date'] = pd.to_datetime(df_weather['date']).dt.tz_localize(None)\n"
   ]
  },
  {
   "cell_type": "code",
   "execution_count": null,
   "id": "1c89ddfa",
   "metadata": {},
   "outputs": [],
   "source": [
    "# merge datasets on date\n",
    "df2 = df_copy.merge(df_weather, on='date', how='left')"
   ]
  },
  {
   "cell_type": "code",
   "execution_count": null,
   "id": "20a99bea",
   "metadata": {},
   "outputs": [],
   "source": [
    "# check columns after merge\n",
    "print(\"Columns after merge: \", df2.columns)"
   ]
  },
  {
   "cell_type": "markdown",
   "id": "7c5c7daf",
   "metadata": {},
   "source": [
    "### And research suggests that swinging temperatures place a strain on our thermoregulatory and cardiovascular systems"
   ]
  },
  {
   "cell_type": "code",
   "execution_count": null,
   "id": "29b710f6",
   "metadata": {},
   "outputs": [],
   "source": [
    "# So let's create an interaction term for temperature swing\n",
    "df2['temp_swing'] = df2['TMAX'] - df2['TMIN']\n",
    "df2.groupby('sick')[['temp_swing', 'PRCP', 'TAVG','TMAX', 'TMIN', 'Average HRV', 'Temperature Deviation (°C)']].mean()"
   ]
  },
  {
   "cell_type": "markdown",
   "id": "558cf4bf",
   "metadata": {},
   "source": [
    "### But is it significant?\n"
   ]
  },
  {
   "cell_type": "code",
   "execution_count": null,
   "id": "05512446",
   "metadata": {},
   "outputs": [],
   "source": [
    "sick_group = df2[df2['sick'] == 1]\n",
    "healthy_group = df2[df2['sick'] == 0]\n",
    "\n",
    "ttest_ind(sick_group['temp_swing'], healthy_group['temp_swing'], nan_policy='omit')"
   ]
  },
  {
   "cell_type": "markdown",
   "id": "da2d3013",
   "metadata": {},
   "source": [
    "# What impacts my 'Sleep Score' the most?"
   ]
  },
  {
   "cell_type": "code",
   "execution_count": null,
   "id": "7ae9dd34",
   "metadata": {},
   "outputs": [],
   "source": [
    "sleep_cols = ['Deep Sleep Duration','Total Sleep Duration', 'Sleep Latency','Light Sleep Duration','REM Sleep Duration','Total Bedtime ','Restless Sleep', 'Awake Time']\n",
    "sleep_cols.append('Sleep Score')  # include target\n",
    "df_sleep = df[sleep_cols]\n",
    "df_sleep = df_sleep.dropna()\n",
    "# df_sleep = df_sleep.drop(columns =['Bedtime Start', 'Bedtime End'])\n",
    "df_sleep = df_sleep.loc[:, ~df_sleep.columns.duplicated()]  # remove duplicate columns"
   ]
  },
  {
   "cell_type": "code",
   "execution_count": null,
   "id": "3d6969a2",
   "metadata": {},
   "outputs": [],
   "source": [
    "X = df_sleep.drop(columns='Sleep Score')\n",
    "y = df_sleep['Sleep Score']"
   ]
  },
  {
   "cell_type": "code",
   "execution_count": null,
   "id": "98b06d44",
   "metadata": {},
   "outputs": [],
   "source": [
    "X_train, X_test, y_train, y_test = train_test_split(X, y, test_size=0.2, random_state=42)"
   ]
  },
  {
   "cell_type": "code",
   "execution_count": null,
   "id": "cf45931b",
   "metadata": {},
   "outputs": [],
   "source": [
    "model = LinearRegression()\n",
    "model.fit(X_train, y_train)"
   ]
  },
  {
   "cell_type": "code",
   "execution_count": null,
   "id": "92fed128",
   "metadata": {},
   "outputs": [],
   "source": [
    "y_pred = model.predict(X_test)\n",
    "print(\"R² Score:\", r2_score(y_test, y_pred))"
   ]
  },
  {
   "cell_type": "code",
   "execution_count": null,
   "id": "69a71b25",
   "metadata": {},
   "outputs": [],
   "source": [
    "coef_df = pd.DataFrame({\n",
    "    'Feature': X.columns,\n",
    "    'Coefficient': model.coef_\n",
    "}).sort_values(by='Coefficient', key=abs, ascending=False)\n",
    "\n",
    "print(coef_df)"
   ]
  },
  {
   "cell_type": "markdown",
   "id": "aabeeb8f",
   "metadata": {},
   "source": [
    "# But we all know that it's the ratios that are important!"
   ]
  },
  {
   "cell_type": "markdown",
   "id": "b22208c0",
   "metadata": {},
   "source": [
    "So let's try some interaction terms"
   ]
  },
  {
   "cell_type": "code",
   "execution_count": null,
   "id": "044643d5",
   "metadata": {},
   "outputs": [],
   "source": [
    "# X and y for the interaction model\n",
    "X = df_sleep.drop(columns='Sleep Score').copy()\n",
    "y = df_sleep['Sleep Score'].copy()\n"
   ]
  },
  {
   "cell_type": "code",
   "execution_count": null,
   "id": "1b25d5ec",
   "metadata": {},
   "outputs": [],
   "source": [
    "# Ratio features\n",
    "X['REM_to_DEEP_ratio'] = X['REM Sleep Duration'] / X['Deep Sleep Duration']\n",
    "X['DEEP_to_TOTAL_ratio'] = X['Deep Sleep Duration'] / X['Total Sleep Duration']\n",
    "X['REM_to_TOTAL_ratio'] = X['REM Sleep Duration'] / X['Total Sleep Duration']\n",
    "X['Light_to_Total_ratio'] = X['Light Sleep Duration'] / X['Total Sleep Duration']"
   ]
  },
  {
   "cell_type": "code",
   "execution_count": null,
   "id": "a14a2c56",
   "metadata": {},
   "outputs": [],
   "source": [
    "from sklearn.preprocessing import PolynomialFeatures\n",
    "poly = PolynomialFeatures(degree=2, interaction_only=True, include_bias=False)\n",
    "X = df_sleep.drop(columns='Sleep Score')\n",
    "\n",
    "y = df_sleep['Sleep Score']\n",
    "X_interactions = poly.fit_transform(X)\n"
   ]
  },
  {
   "cell_type": "code",
   "execution_count": null,
   "id": "f42a4c4a",
   "metadata": {},
   "outputs": [],
   "source": [
    "# Replace any inf/nan (due to division by zero or missing)\n",
    "X.replace([np.inf, -np.inf], np.nan, inplace=True)\n",
    "X.dropna(inplace=True)\n",
    "y = y.loc[X.index]  # align y with filtered X\n",
    "\n",
    "# Scale all features (originals + ratios)\n",
    "scaler = StandardScaler()\n",
    "X_scaled = scaler.fit_transform(X)\n",
    "X_scaled_df = pd.DataFrame(X_scaled, columns=X.columns)"
   ]
  },
  {
   "cell_type": "code",
   "execution_count": null,
   "id": "8b550872",
   "metadata": {},
   "outputs": [],
   "source": [
    "model = LinearRegression()\n",
    "model.fit(X_scaled, y)\n",
    "\n",
    "# View coefficients (importance)\n",
    "coef_df = pd.DataFrame({\n",
    "    'Feature': X_scaled_df.columns,\n",
    "    'Coefficient': model.coef_\n",
    "}).sort_values(by='Coefficient', key=abs, ascending=False)\n",
    "\n",
    "print(coef_df.head(10))  # Top 10 important interactions"
   ]
  },
  {
   "cell_type": "code",
   "execution_count": null,
   "id": "bdaa0df0",
   "metadata": {},
   "outputs": [],
   "source": [
    "# does it have a higher R² score?\n",
    "X_train, X_test, y_train, y_test = train_test_split(X_scaled_df, y, test_size=0.2, random_state=42)\n",
    "lr_ratio = LinearRegression()\n",
    "lr_ratio.fit(X_train, y_train)\n",
    "ratio_score = lr_ratio.score(X_test, y_test)\n",
    "print(\"R² Score with Ratios:\", ratio_score)"
   ]
  }
 ],
 "metadata": {
  "kernelspec": {
   "display_name": "Python 3 (ipykernel)",
   "language": "python",
   "name": "python3"
  },
  "language_info": {
   "codemirror_mode": {
    "name": "ipython",
    "version": 3
   },
   "file_extension": ".py",
   "mimetype": "text/x-python",
   "name": "python",
   "nbconvert_exporter": "python",
   "pygments_lexer": "ipython3",
   "version": "3.11.5"
  }
 },
 "nbformat": 4,
 "nbformat_minor": 5
}
